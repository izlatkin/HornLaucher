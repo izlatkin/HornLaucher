{
 "cells": [
  {
   "cell_type": "code",
   "execution_count": 1,
   "metadata": {
    "collapsed": true
   },
   "outputs": [],
   "source": [
    "import pandas as pd\n",
    "import openpyxl as openpyxl"
   ]
  },
  {
   "cell_type": "code",
   "execution_count": 33,
   "outputs": [],
   "source": [
    "termination_run = pd.read_excel('../sandbox_term/1_report.xlsx', dtype={'filename': str, 'coverage_t': str, 'time_t': float})"
   ],
   "metadata": {
    "collapsed": false,
    "pycharm": {
     "name": "#%%\n"
    }
   }
  },
  {
   "cell_type": "code",
   "execution_count": 34,
   "outputs": [],
   "source": [
    "no_termination_run = pd.read_excel('../sandbox_no_term/1_report.xlsx', dtype={'filename': str, 'coverage_n': str, 'time_n': float})"
   ],
   "metadata": {
    "collapsed": false,
    "pycharm": {
     "name": "#%%\n"
    }
   }
  },
  {
   "cell_type": "code",
   "execution_count": 35,
   "outputs": [],
   "source": [
    "to_runs_merge = pd.merge(termination_run,no_termination_run,on='filename',how='outer')"
   ],
   "metadata": {
    "collapsed": false,
    "pycharm": {
     "name": "#%%\n"
    }
   }
  },
  {
   "cell_type": "code",
   "execution_count": 36,
   "outputs": [],
   "source": [
    "#to_runs_merge.to_excel(\"output.xlsx\")"
   ],
   "metadata": {
    "collapsed": false,
    "pycharm": {
     "name": "#%%\n"
    }
   }
  },
  {
   "cell_type": "code",
   "execution_count": 37,
   "outputs": [],
   "source": [
    "old_run = pd.read_excel('TG_results.xlsx', dtype={'filename': str, 'coverage_1': str, 'time_1': float})"
   ],
   "metadata": {
    "collapsed": false,
    "pycharm": {
     "name": "#%%\n"
    }
   }
  },
  {
   "cell_type": "code",
   "execution_count": 38,
   "outputs": [],
   "source": [
    "to_runs_merge = pd.merge(old_run,to_runs_merge,on='filename',how='outer')"
   ],
   "metadata": {
    "collapsed": false,
    "pycharm": {
     "name": "#%%\n"
    }
   }
  },
  {
   "cell_type": "code",
   "execution_count": 39,
   "outputs": [],
   "source": [
    "to_runs_merge.to_excel(\"output.xlsx\")"
   ],
   "metadata": {
    "collapsed": false,
    "pycharm": {
     "name": "#%%\n"
    }
   }
  },
  {
   "cell_type": "code",
   "execution_count": 5,
   "outputs": [],
   "source": [
    "old_runs = pd.read_excel('output.xlsx', dtype={'filename': str, 'coverage': str, 'time': str, 'coverage_x': str, 'time_x': str,'coverage_y': str, 'time_y': str})"
   ],
   "metadata": {
    "collapsed": false,
    "pycharm": {
     "name": "#%%\n"
    }
   }
  },
  {
   "cell_type": "code",
   "execution_count": 4,
   "outputs": [],
   "source": [
    "new_run_with_reg = pd.read_excel('../sandbox/1_report.xlsx', dtype={'filename': str, 'coverage_reg': str, 'time_reg': float})"
   ],
   "metadata": {
    "collapsed": false,
    "pycharm": {
     "name": "#%%\n"
    }
   }
  },
  {
   "cell_type": "code",
   "execution_count": 8,
   "outputs": [
    {
     "name": "stderr",
     "output_type": "stream",
     "text": [
      "<ipython-input-8-e8e10cb52226>:1: FutureWarning: Passing 'suffixes' which cause duplicate columns {'coverage_x', 'time_x'} in the result is deprecated and will raise a MergeError in a future version.\n",
      "  to_runs_merge_2 = pd.merge(old_runs,new_run_with_reg,on='filename',how='outer')\n"
     ]
    }
   ],
   "source": [
    "to_runs_merge_2 = pd.merge(old_runs,new_run_with_reg,on='filename',how='outer')"
   ],
   "metadata": {
    "collapsed": false,
    "pycharm": {
     "name": "#%%\n"
    }
   }
  },
  {
   "cell_type": "code",
   "execution_count": 9,
   "outputs": [],
   "source": [
    "to_runs_merge_2.to_excel(\"output_2.xlsx\")"
   ],
   "metadata": {
    "collapsed": false,
    "pycharm": {
     "name": "#%%\n"
    }
   }
  },
  {
   "cell_type": "code",
   "execution_count": 11,
   "outputs": [],
   "source": [
    "\n",
    "VeriFuzz = pd.read_excel('VeriFuzz.xlsx', dtype={'filename': str, 'coverage_reg': str})"
   ],
   "metadata": {
    "collapsed": false,
    "pycharm": {
     "name": "#%%\n"
    }
   }
  },
  {
   "cell_type": "code",
   "execution_count": 12,
   "outputs": [],
   "source": [
    "to_runs_merge_3 = pd.merge(to_runs_merge_2,VeriFuzz,on='filename',how='outer')"
   ],
   "metadata": {
    "collapsed": false,
    "pycharm": {
     "name": "#%%\n"
    }
   }
  },
  {
   "cell_type": "code",
   "execution_count": 13,
   "outputs": [],
   "source": [
    "to_runs_merge_3.to_excel(\"output_3.xlsx\")"
   ],
   "metadata": {
    "collapsed": false,
    "pycharm": {
     "name": "#%%\n"
    }
   }
  },
  {
   "cell_type": "code",
   "execution_count": 2,
   "outputs": [],
   "source": [
    "new_run_fixed_bug = pd.read_excel(\"output_4.xlsx\", dtype={'filename': str, 'coverage': str, 'time': str, 'coverage_x': str, 'time_x': str,'coverage_y': str, 'time_y': str,'coverage_z': str, 'time_z': str, 'coverage_referance': str})"
   ],
   "metadata": {
    "collapsed": false,
    "pycharm": {
     "name": "#%%\n"
    }
   }
  },
  {
   "cell_type": "code",
   "execution_count": 3,
   "outputs": [],
   "source": [
    "new_run_with_fix = pd.read_excel('../sandbox/1_report.xlsx', dtype={'filename': str, 'coverage_new': str, 'time_new': float})"
   ],
   "metadata": {
    "collapsed": false,
    "pycharm": {
     "name": "#%%\n"
    }
   }
  },
  {
   "cell_type": "code",
   "execution_count": 4,
   "outputs": [
    {
     "name": "stderr",
     "output_type": "stream",
     "text": [
      "<ipython-input-4-9c2156f7c212>:1: FutureWarning: Passing 'suffixes' which cause duplicate columns {'time_x'} in the result is deprecated and will raise a MergeError in a future version.\n",
      "  to_runs_merge_4 = pd.merge(new_run_fixed_bug,new_run_with_fix,on='filename',how='outer')\n"
     ]
    }
   ],
   "source": [
    "to_runs_merge_4 = pd.merge(new_run_fixed_bug,new_run_with_fix,on='filename',how='outer')"
   ],
   "metadata": {
    "collapsed": false,
    "pycharm": {
     "name": "#%%\n"
    }
   }
  },
  {
   "cell_type": "code",
   "execution_count": 5,
   "outputs": [],
   "source": [
    "to_runs_merge_4.to_excel(\"output_5.xlsx\")"
   ],
   "metadata": {
    "collapsed": false,
    "pycharm": {
     "name": "#%%\n"
    }
   }
  },
  {
   "cell_type": "code",
   "execution_count": 4,
   "outputs": [
    {
     "data": {
      "text/plain": "                                filename           coverage      time  \\\n0                 MADWiFi-encode_ie_ok.c                 70    914.41   \n1                    SpamAssassin-loop.c                 75    944.31   \n2    SpamAssassin-loop.i.v+cfa-reducer.c                 50    945.91   \n3                             afnp2014.c  83.33333333333333    908.09   \n4               apache-escape-absolute.c  76.19047619047619    949.46   \n..                                   ...                ...       ...   \n212                             trex04.c  72.72727272727273     90.67   \n213                                 up.c  83.33333333333333    904.23   \n214                              vnew1.c                  0       NaN   \n215                              vnew2.c                  0       NaN   \n216                         watermelon.c                  0      4.37   \n\n                hit           total  \n0                16              22  \n1                11              14  \n2                25              48  \n3                 7               8  \n4                34              44  \n..              ...             ...  \n212              18              24  \n213               7               8  \n214             NaN             NaN  \n215             NaN             NaN  \n216             NaN             NaN  \n\n[217 rows x 5 columns]",
      "text/html": "<div>\n<style scoped>\n    .dataframe tbody tr th:only-of-type {\n        vertical-align: middle;\n    }\n\n    .dataframe tbody tr th {\n        vertical-align: top;\n    }\n\n    .dataframe thead th {\n        text-align: right;\n    }\n</style>\n<table border=\"1\" class=\"dataframe\">\n  <thead>\n    <tr style=\"text-align: right;\">\n      <th></th>\n      <th>filename</th>\n      <th>coverage</th>\n      <th>time</th>\n      <th>hit</th>\n      <th>total</th>\n    </tr>\n  </thead>\n  <tbody>\n    <tr>\n      <th>0</th>\n      <td>MADWiFi-encode_ie_ok.c</td>\n      <td>70</td>\n      <td>914.41</td>\n      <td>16</td>\n      <td>22</td>\n    </tr>\n    <tr>\n      <th>1</th>\n      <td>SpamAssassin-loop.c</td>\n      <td>75</td>\n      <td>944.31</td>\n      <td>11</td>\n      <td>14</td>\n    </tr>\n    <tr>\n      <th>2</th>\n      <td>SpamAssassin-loop.i.v+cfa-reducer.c</td>\n      <td>50</td>\n      <td>945.91</td>\n      <td>25</td>\n      <td>48</td>\n    </tr>\n    <tr>\n      <th>3</th>\n      <td>afnp2014.c</td>\n      <td>83.33333333333333</td>\n      <td>908.09</td>\n      <td>7</td>\n      <td>8</td>\n    </tr>\n    <tr>\n      <th>4</th>\n      <td>apache-escape-absolute.c</td>\n      <td>76.19047619047619</td>\n      <td>949.46</td>\n      <td>34</td>\n      <td>44</td>\n    </tr>\n    <tr>\n      <th>...</th>\n      <td>...</td>\n      <td>...</td>\n      <td>...</td>\n      <td>...</td>\n      <td>...</td>\n    </tr>\n    <tr>\n      <th>212</th>\n      <td>trex04.c</td>\n      <td>72.72727272727273</td>\n      <td>90.67</td>\n      <td>18</td>\n      <td>24</td>\n    </tr>\n    <tr>\n      <th>213</th>\n      <td>up.c</td>\n      <td>83.33333333333333</td>\n      <td>904.23</td>\n      <td>7</td>\n      <td>8</td>\n    </tr>\n    <tr>\n      <th>214</th>\n      <td>vnew1.c</td>\n      <td>0</td>\n      <td>NaN</td>\n      <td>NaN</td>\n      <td>NaN</td>\n    </tr>\n    <tr>\n      <th>215</th>\n      <td>vnew2.c</td>\n      <td>0</td>\n      <td>NaN</td>\n      <td>NaN</td>\n      <td>NaN</td>\n    </tr>\n    <tr>\n      <th>216</th>\n      <td>watermelon.c</td>\n      <td>0</td>\n      <td>4.37</td>\n      <td>NaN</td>\n      <td>NaN</td>\n    </tr>\n  </tbody>\n</table>\n<p>217 rows × 5 columns</p>\n</div>"
     },
     "execution_count": 4,
     "metadata": {},
     "output_type": "execute_result"
    }
   ],
   "source": [
    "tg_sep27 = pd.read_excel('loops_oct6.xlsx', dtype={'filename': str, 'coverage': str, 'time': str, 'hit': str, 'total': str})\n",
    "tg_sep27"
   ],
   "metadata": {
    "collapsed": false,
    "pycharm": {
     "name": "#%%\n"
    }
   }
  },
  {
   "cell_type": "code",
   "execution_count": 5,
   "outputs": [],
   "source": [
    "three_tools = pd.read_excel('three_tools.xlsx', dtype={'filename': str, 'coverage_klee': str,\n",
    "                                                       'time_klee': str, 'goals_klee': str,\n",
    "                                                       'coverage_fuse': str, 'time_fuse': str,\n",
    "                                                       'goals_fuse': str, 'coverage_verifuzz': str,\n",
    "                                                       'time_verifuzz': str, 'goals_veri': str})"
   ],
   "metadata": {
    "collapsed": false,
    "pycharm": {
     "name": "#%%\n"
    }
   }
  },
  {
   "cell_type": "code",
   "execution_count": 6,
   "outputs": [],
   "source": [
    "merge_tg_and_three_tools = pd.merge(tg_sep27,three_tools,on='filename',how='outer')"
   ],
   "metadata": {
    "collapsed": false,
    "pycharm": {
     "name": "#%%\n"
    }
   }
  },
  {
   "cell_type": "code",
   "execution_count": 7,
   "outputs": [],
   "source": [
    "merge_tg_and_three_tools.to_excel(\"output_6.xlsx\")"
   ],
   "metadata": {
    "collapsed": false,
    "pycharm": {
     "name": "#%%\n"
    }
   }
  }
 ],
 "metadata": {
  "kernelspec": {
   "display_name": "Python 3",
   "language": "python",
   "name": "python3"
  },
  "language_info": {
   "codemirror_mode": {
    "name": "ipython",
    "version": 2
   },
   "file_extension": ".py",
   "mimetype": "text/x-python",
   "name": "python",
   "nbconvert_exporter": "python",
   "pygments_lexer": "ipython2",
   "version": "2.7.6"
  }
 },
 "nbformat": 4,
 "nbformat_minor": 0
}